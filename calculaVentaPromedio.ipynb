{
 "cells": [
  {
   "cell_type": "code",
   "execution_count": null,
   "metadata": {},
   "outputs": [],
   "source": [
    "import os\n",
    "import pandas as pd\n",
    "import numpy as np\n",
    "import pyodbc\n",
    "from sqlalchemy import create_engine\n",
    "from urllib.parse import quote_plus\n",
    "from dotenv import load_dotenv\n",
    "from helper import Helper"
   ]
  },
  {
   "cell_type": "code",
   "execution_count": null,
   "metadata": {},
   "outputs": [],
   "source": [
    "Helper.log(\"Inicio del proceso.\")"
   ]
  },
  {
   "cell_type": "code",
   "execution_count": null,
   "metadata": {},
   "outputs": [],
   "source": [
    "# Cargar las variables de entorno desde el archivo .env\n",
    "load_dotenv()"
   ]
  },
  {
   "cell_type": "code",
   "execution_count": null,
   "metadata": {},
   "outputs": [],
   "source": [
    "# Credenciales de la base de datos\n",
    "conn = {\n",
    "    'SERVER': Helper.decrypt_text(os.getenv(\"DB_SERVER\")),\n",
    "    'DATABASE': Helper.decrypt_text(os.getenv(\"DB_NAME\")),\n",
    "    'UID': Helper.decrypt_text(os.getenv(\"DB_USER\")),\n",
    "    'PWD': Helper.decrypt_text(os.getenv(\"DB_PASSWORD\")),\n",
    "    'DRIVER': \"ODBC Driver 17 for SQL Server\"\n",
    "}\n",
    "print(conn)"
   ]
  },
  {
   "cell_type": "code",
   "execution_count": null,
   "metadata": {},
   "outputs": [],
   "source": [
    "# funcion para calcular el resumen diario de ventas petstation\n",
    "def setResumenVentas():\n",
    "    query = \"EXEC dynamics.set_resumen_diario_x_item_x_tienda_petstation\"\n",
    "    Helper.log(\"Conectando a la base de datos para calcular el resumen diario de ventas.\")\n",
    "\n",
    "    try:\n",
    "        with pyodbc.connect('DRIVER={'+conn['DRIVER']+'};SERVER='+conn['SERVER']+';DATABASE='+conn['DATABASE']+';UID='+conn['UID']+';PWD='+conn['PWD']) as conexion:\n",
    "            with conexion.cursor() as cursor:\n",
    "                cursor.execute(query)\n",
    "\n",
    "        Helper.log(\"Datos calculados exitosamente.\")\n",
    "        return\n",
    "    \n",
    "    except Exception as e:\n",
    "        Helper.error(f\"Error al calcular los datos: {e}\")\n",
    "        raise"
   ]
  },
  {
   "cell_type": "code",
   "execution_count": null,
   "metadata": {},
   "outputs": [],
   "source": [
    "# funcion para obtener los datos de Dynamics que serviran para el calculo\n",
    "def getResumenVentas():\n",
    "    query = \"SELECT * FROM dynamics.resumen_diario_x_item_x_tienda_petstation\"\n",
    "    Helper.log(\"Conectando a la base de datos para obtener los datos de evaluacion.\")\n",
    "\n",
    "    try:\n",
    "        with pyodbc.connect('DRIVER={'+conn['DRIVER']+'};SERVER='+conn['SERVER']+';DATABASE='+conn['DATABASE']+';UID='+conn['UID']+';PWD='+conn['PWD']) as conexion:\n",
    "            with conexion.cursor() as cursor:\n",
    "                cursor.execute(query)\n",
    "                rows = cursor.fetchall()\n",
    "                columns = [column[0] for column in cursor.description]\n",
    "                df = pd.DataFrame.from_records(rows, columns=columns)\n",
    "\n",
    "        Helper.log(\"Datos obtenidos exitosamente.\")\n",
    "        return df\n",
    "    \n",
    "    except Exception as e:\n",
    "        Helper.error(f\"Error al obtener los datos: {e}\")\n",
    "        raise"
   ]
  },
  {
   "cell_type": "code",
   "execution_count": null,
   "metadata": {},
   "outputs": [],
   "source": [
    "# funcion para subir los dataframes a la base de datos\n",
    "def uploadData(df, tableName):\n",
    "    encoded_password = quote_plus(conn['PWD'])\n",
    "    # Crear la cadena de conexión\n",
    "    connection_string = 'mssql+pyodbc://'+conn['UID']+':'+encoded_password+'@'+conn['SERVER']+'/'+conn['DATABASE']+'?driver='+conn['DRIVER']\n",
    "    # Crear un motor de SQLAlchemy\n",
    "    engine = create_engine(connection_string)\n",
    "\n",
    "    Helper.log(f\"Subiendo los datos a la tabla {tableName}.\")\n",
    "\n",
    "    # Subir el DataFrame a SQL Server\n",
    "    try:\n",
    "        df.to_sql(tableName, engine, if_exists='replace', index=False)\n",
    "        Helper.log(f\"Datos subidos exitosamente a la tabla {tableName}.\")\n",
    "    except Exception as e:\n",
    "        Helper.error(f\"Error al subir los datos a la tabla {tableName}: {e}\")\n",
    "        raise"
   ]
  },
  {
   "cell_type": "code",
   "execution_count": null,
   "metadata": {},
   "outputs": [],
   "source": [
    "# funcion para ajustar los valores en 0\n",
    "def ajuste(fila):    \n",
    "    try:\n",
    "        mediana = medianas.at[fila['COMBINACION'], 'CANTIDAD_VENTA']\n",
    "    except:\n",
    "        mediana = 0\n",
    "    \n",
    "    quiebre = fila['CON_QUIEBRE']\n",
    "    venta = fila['CANTIDAD_VENTA']\n",
    "    \n",
    "    if quiebre == 0:\n",
    "        r = venta\n",
    "    else:\n",
    "        if venta == 0:\n",
    "            r = mediana\n",
    "        else:\n",
    "            r = venta\n",
    "    \n",
    "    return r"
   ]
  },
  {
   "cell_type": "code",
   "execution_count": null,
   "metadata": {},
   "outputs": [],
   "source": [
    "# cuenta los meses\n",
    "def num_meses(x):\n",
    "    return round(x.count() / 30)"
   ]
  },
  {
   "cell_type": "code",
   "execution_count": null,
   "metadata": {},
   "outputs": [],
   "source": [
    "# calcula el resumen de ventas para el calculo\n",
    "setResumenVentas()"
   ]
  },
  {
   "cell_type": "code",
   "execution_count": null,
   "metadata": {},
   "outputs": [],
   "source": [
    "# obtiene los datos para el calculo\n",
    "df_pet = getResumenVentas()\n",
    "df_pet.head()"
   ]
  },
  {
   "cell_type": "code",
   "execution_count": null,
   "metadata": {},
   "outputs": [],
   "source": [
    "Helper.log(\"Preparando los datos antes de la evaluacion.\")\n",
    "\n",
    "# convierte los codigos de bodega en str\n",
    "df_pet['co_bodega'] = df_pet['co_bodega'].astype(str)"
   ]
  },
  {
   "cell_type": "code",
   "execution_count": null,
   "metadata": {},
   "outputs": [],
   "source": [
    "# crea la llave bodega-articulo\n",
    "df_pet['COMBINACION'] = df_pet['co_bodega'] + '-' + df_pet['co_articulo']"
   ]
  },
  {
   "cell_type": "code",
   "execution_count": null,
   "metadata": {},
   "outputs": [],
   "source": [
    "# si la venta es negativa le pone 0\n",
    "df_pet['CANTIDAD_VENTA'] = df_pet['CANTIDAD_VENTA'].apply(lambda x : 0 if x < 0 else x)"
   ]
  },
  {
   "cell_type": "code",
   "execution_count": null,
   "metadata": {},
   "outputs": [],
   "source": [
    "# ajusta las combinaciones para los productos que no tienen quiebre\n",
    "sincero = df_pet[(df_pet['CON_QUIEBRE'] == 0)]"
   ]
  },
  {
   "cell_type": "code",
   "execution_count": null,
   "metadata": {},
   "outputs": [],
   "source": [
    "Helper.log(\"Calculando la media.\")\n",
    "\n",
    "# obtiene la media\n",
    "medianas = sincero.groupby(by=['COMBINACION']).agg({'CANTIDAD_VENTA': 'mean'})\n",
    "df_pet['AJUSTE_MEAN'] = df_pet.apply(ajuste, axis=1)"
   ]
  },
  {
   "cell_type": "code",
   "execution_count": null,
   "metadata": {},
   "outputs": [],
   "source": [
    "Helper.log(\"Calculando la mediana.\")\n",
    "\n",
    "# obtiene la mediana\n",
    "medianas = sincero.groupby(by=['COMBINACION']).agg({'CANTIDAD_VENTA': 'median'})\n",
    "df_pet['AJUSTE_MEDIANA'] = df_pet.apply(ajuste, axis=1)"
   ]
  },
  {
   "cell_type": "code",
   "execution_count": null,
   "metadata": {},
   "outputs": [],
   "source": [
    "Helper.log(\"Consolidando los valores calculados en la matriz producto-tienda.\")\n",
    "\n",
    "# agrupa los valores por cada combinacion existente\n",
    "# venta promedio para producto - tienda\n",
    "promedio = df_pet.groupby(by=['COMBINACION']).agg({\n",
    "    'CANTIDAD_VENTA': 'sum',\n",
    "    'AJUSTE_MEAN': 'sum',\n",
    "    'AJUSTE_MEDIANA': 'sum',\n",
    "    'fecha': ['count', num_meses]\n",
    "}).reset_index()\n",
    "\n",
    "promedio.head()"
   ]
  },
  {
   "cell_type": "code",
   "execution_count": null,
   "metadata": {},
   "outputs": [],
   "source": [
    "# crear un nuevo dataset para el resultado\n",
    "promedio.columns = [\n",
    "    'COMBINACION',\n",
    "    'CANTIDAD_VENTA',\n",
    "    'AJUSTE_MEAN',\n",
    "    'AJUSTE_MEDIANA',\n",
    "    'DIAS',\n",
    "    'MESES'\n",
    "]"
   ]
  },
  {
   "cell_type": "code",
   "execution_count": null,
   "metadata": {},
   "outputs": [],
   "source": [
    "# agrega las columnas de bodega, articulo y dias para el dataset del resultado\n",
    "promedio['co_bodega'] = promedio['COMBINACION'].apply(lambda x : x.split('-')[0])\n",
    "promedio['co_articulo'] = promedio['COMBINACION'].apply(lambda x : x.split('-')[1])\n",
    "promedio = promedio[promedio['DIAS'] > 30]"
   ]
  },
  {
   "cell_type": "code",
   "execution_count": null,
   "metadata": {},
   "outputs": [],
   "source": [
    "Helper.log(\"Consolidando los valores calculados en la matriz producto-total comercio.\")\n",
    "\n",
    "# agrupa el resultado por articulo\n",
    "# venta promedio para total comercio\n",
    "promedio_2 = promedio.groupby(by=['co_articulo']).agg({\n",
    "    'CANTIDAD_VENTA': 'sum',\n",
    "    'AJUSTE_MEAN': 'sum',\n",
    "    'AJUSTE_MEDIANA': 'sum',\n",
    "    'DIAS': 'max'\n",
    "}).reset_index()\n",
    "\n",
    "promedio_2.head()"
   ]
  },
  {
   "cell_type": "code",
   "execution_count": null,
   "metadata": {},
   "outputs": [],
   "source": [
    "# agrega los valores de venta promedio para los 2 resultados\n",
    "# venta promedio por producto - tienda\n",
    "# venta promedio por total comercio\n",
    "for i in ['CANTIDAD_VENTA', 'AJUSTE_MEAN', 'AJUSTE_MEDIANA']:\n",
    "    promedio[f'{i}_prom'] = (promedio[i] / promedio['DIAS']) * 30\n",
    "    promedio_2[f'{i}_prom'] = (promedio_2[i] / promedio_2['DIAS']) * 30"
   ]
  },
  {
   "cell_type": "code",
   "execution_count": null,
   "metadata": {},
   "outputs": [],
   "source": [
    "# exporta los resultados a CSV\n",
    "Helper.log(\"Exportando los resultados a archivos CSV.\")"
   ]
  },
  {
   "cell_type": "code",
   "execution_count": null,
   "metadata": {},
   "outputs": [],
   "source": [
    "promedio.to_csv('results/TiendaXProducto.csv', index=False)"
   ]
  },
  {
   "cell_type": "code",
   "execution_count": null,
   "metadata": {},
   "outputs": [],
   "source": [
    "promedio_2.to_csv('results/ProductoXcompania.csv', index=False)"
   ]
  },
  {
   "cell_type": "code",
   "execution_count": null,
   "metadata": {},
   "outputs": [],
   "source": [
    "# Sube los resultados a tablas en la base de datos\n",
    "uploadData(promedio, \"venta_promedio_x_item_x_bodega\")"
   ]
  },
  {
   "cell_type": "code",
   "execution_count": null,
   "metadata": {},
   "outputs": [],
   "source": [
    "uploadData(promedio_2, \"venta_promedio_x_item_x_comercio\")"
   ]
  },
  {
   "cell_type": "code",
   "execution_count": null,
   "metadata": {},
   "outputs": [],
   "source": [
    "Helper.log(\"Proceso completado exitosamente.\")"
   ]
  }
 ],
 "metadata": {
  "kernelspec": {
   "display_name": "Python 3",
   "language": "python",
   "name": "python3"
  },
  "language_info": {
   "codemirror_mode": {
    "name": "ipython",
    "version": 3
   },
   "file_extension": ".py",
   "mimetype": "text/x-python",
   "name": "python",
   "nbconvert_exporter": "python",
   "pygments_lexer": "ipython3",
   "version": "3.11.3"
  },
  "orig_nbformat": 4
 },
 "nbformat": 4,
 "nbformat_minor": 2
}
